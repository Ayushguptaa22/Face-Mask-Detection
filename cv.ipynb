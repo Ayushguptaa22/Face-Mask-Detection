{
 "cells": [
  {
   "cell_type": "code",
   "execution_count": 3,
   "metadata": {},
   "outputs": [],
   "source": [
    "import cv2\n",
    "import numpy as np"
   ]
  },
  {
   "cell_type": "code",
   "execution_count": 10,
   "metadata": {},
   "outputs": [],
   "source": [
    "img=cv2.imread(\"Screenshot 2021-08-25 100229.png\",0)\n",
    "cv2.imshow(\"img\",img)\n",
    "cv2.waitKey(0)\n",
    "cv2.destroyAllWindows()"
   ]
  },
  {
   "cell_type": "code",
   "execution_count": 11,
   "metadata": {},
   "outputs": [
    {
     "data": {
      "text/plain": [
       "(336, 366)"
      ]
     },
     "execution_count": 11,
     "metadata": {},
     "output_type": "execute_result"
    }
   ],
   "source": [
    "img.shape"
   ]
  },
  {
   "cell_type": "code",
   "execution_count": 12,
   "metadata": {},
   "outputs": [
    {
     "data": {
      "text/plain": [
       "array([[255, 255, 255, ..., 255, 255, 255],\n",
       "       [255, 255, 255, ..., 255, 255, 255],\n",
       "       [255, 255, 255, ..., 255, 255, 255],\n",
       "       ...,\n",
       "       [255, 255, 255, ..., 255, 255, 255],\n",
       "       [255, 255, 255, ..., 255, 255, 255],\n",
       "       [255, 255, 255, ..., 255, 255, 255]], dtype=uint8)"
      ]
     },
     "execution_count": 12,
     "metadata": {},
     "output_type": "execute_result"
    }
   ],
   "source": [
    "img"
   ]
  },
  {
   "cell_type": "code",
   "execution_count": 13,
   "metadata": {},
   "outputs": [
    {
     "data": {
      "text/plain": [
       "(28, 255)"
      ]
     },
     "execution_count": 13,
     "metadata": {},
     "output_type": "execute_result"
    }
   ],
   "source": [
    "np.min(img), np.max(img)"
   ]
  },
  {
   "cell_type": "code",
   "execution_count": 17,
   "metadata": {},
   "outputs": [],
   "source": [
    "cap = cv2.VideoCapture(0)\n",
    "fourcc=cv2.VideoWriter_fourcc('X','V','I','D')\n",
    "out=cv2.VideoWriter('out.avi',fourcc,20.0, (640,480))\n",
    "\n",
    "while True:\n",
    "    success, frame=cap.read()\n",
    "    if success==True:\n",
    "        out.write(frame)\n",
    "        cv2.imshow(\"Video\",frame)\n",
    "        if cv2.waitKey(1) == ord('q'):\n",
    "            break\n",
    "    else:\n",
    "        break\n",
    "\n",
    "cap.release()\n",
    "out.release()\n",
    "cv2.destroyAllWindows()"
   ]
  },
  {
   "cell_type": "code",
   "execution_count": 18,
   "metadata": {},
   "outputs": [],
   "source": [
    "cap=cv2.VideoCapture(0)\n",
    "\n",
    "cap.set(3,640)\n",
    "cap.set(4,480)\n",
    "cap.set(10, 100)\n",
    "\n",
    "while True:\n",
    "    success, img=cap.read()\n",
    "    cv2.imshow(\"Video\",img)\n",
    "\n",
    "    if cv2.waitKey(1) & 0xFF == ord('q'):\n",
    "        break\n",
    "cap.release()\n",
    "cv2.destroyAllWindows()"
   ]
  },
  {
   "cell_type": "code",
   "execution_count": 23,
   "metadata": {},
   "outputs": [],
   "source": [
    "img= cv2.imread(\"Screenshot 2021-08-25 100229.png\")\n",
    "imGray=cv2.cvtColor(img, cv2.COLOR_RGB2GRAY)\n",
    "cv2.imshow('GrayScale Image',imGray)\n",
    "cv2.imwrite('Copy.png',imGray)\n",
    "\n",
    "cv2.waitKey(0)\n",
    "cv2.destroyAllWindows()"
   ]
  },
  {
   "cell_type": "code",
   "execution_count": 27,
   "metadata": {},
   "outputs": [],
   "source": [
    "img= cv2.imread(\"Screenshot 2021-08-25 100229.png\")\n",
    "imBlur=cv2.GaussianBlur(img, (21,21), 0)\n",
    "cv2.imshow(\"Blurred Image\",imBlur)\n",
    "\n",
    "cv2.waitKey(0)\n",
    "cv2.destroyAllWindows()"
   ]
  },
  {
   "cell_type": "code",
   "execution_count": 28,
   "metadata": {},
   "outputs": [],
   "source": [
    "img= cv2.imread(\"Screenshot 2021-08-25 100229.png\")\n",
    "imCanny=cv2.Canny(img,150,200)\n",
    "\n",
    "kernel=np.ones((5,5), np.uint8)\n",
    "\n",
    "imDilation=cv2.dilate(imCanny,kernel,iterations=1)\n",
    "imErosion=cv2.erode(imDilation,kernel,iterations=1)\n",
    "\n",
    "cv2.imshow('Canny img',imCanny)\n",
    "cv2.imshow('Dilation img',imDilation)\n",
    "cv2.imshow('Erosion img',imErosion)\n",
    "\n",
    "cv2.waitKey(0)\n",
    "cv2.destroyAllWindows()"
   ]
  },
  {
   "cell_type": "code",
   "execution_count": 29,
   "metadata": {},
   "outputs": [],
   "source": [
    "imres=cv2.resize(img,(200,400))\n",
    "\n",
    "cv2.imshow(\"Resized\",imres)\n",
    "\n",
    "cv2.waitKey(0)\n",
    "cv2.destroyAllWindows()"
   ]
  },
  {
   "cell_type": "code",
   "execution_count": 30,
   "metadata": {},
   "outputs": [
    {
     "data": {
      "text/plain": [
       "(400, 200, 3)"
      ]
     },
     "execution_count": 30,
     "metadata": {},
     "output_type": "execute_result"
    }
   ],
   "source": [
    "imres.shape"
   ]
  },
  {
   "cell_type": "code",
   "execution_count": 32,
   "metadata": {},
   "outputs": [
    {
     "name": "stdout",
     "output_type": "stream",
     "text": [
      "(200, 70, 3)\n"
     ]
    }
   ],
   "source": [
    "img= cv2.imread(\"Screenshot 2021-08-25 100229.png\")\n",
    "\n",
    "imCrop=img[0:200, 200:270]\n",
    "cv2.imshow(\"Cropped\",imCrop)\n",
    "\n",
    "print(imCrop.shape)\n",
    "cv2.waitKey(0)\n",
    "cv2.destroyAllWindows()"
   ]
  },
  {
   "cell_type": "code",
   "execution_count": null,
   "metadata": {},
   "outputs": [],
   "source": [
    "#FACE DETECTION"
   ]
  },
  {
   "cell_type": "code",
   "execution_count": 41,
   "metadata": {},
   "outputs": [],
   "source": [
    "faceCascade=cv2.CascadeClassifier(\"haarcascade_frontalface_default.xml\")\n",
    "img= cv2.imread(\"Screenshot 2021-08-25 100229.png\")\n",
    "\n",
    "img=cv2.resize(img,(1080,540))\n",
    "imGray=cv2.cvtColor(img, cv2.COLOR_BGR2GRAY)\n",
    "\n",
    "faces=faceCascade.detectMultiScale(imGray,1.1,4)\n",
    "\n",
    "for(x, y, w, h) in faces:\n",
    "    cv2.rectangle(img,(x,y),(x+w,y+h),(0,0,255),2)\n",
    "\n",
    "cv2.imshow(\"Output\",img)\n",
    "\n",
    "cv2.waitKey(0)\n",
    "cv2.destroyAllWindows()"
   ]
  },
  {
   "cell_type": "code",
   "execution_count": 42,
   "metadata": {},
   "outputs": [],
   "source": [
    "cap=cv2.VideoCapture(0)\n",
    "\n",
    "faceCascade=cv2.CascadeClassifier(\"haarcascade_frontalface_default.xml\")\n",
    "\n",
    "while True:\n",
    "    success, frame=cap.read()\n",
    "    imGray=cv2.cvtColor(frame, cv2.COLOR_BGR2GRAY)\n",
    "\n",
    "    faces=faceCascade.detectMultiScale(imGray, 1.1, 4)\n",
    "\n",
    "    for (x, y, w, h) in faces:\n",
    "        cv2.rectangle(frame, (x,y),(x+w,y+h),(0,0,255),3)\n",
    "\n",
    "    cv2.imshow(\"Video\",frame)\n",
    "\n",
    "    if cv2.waitKey(1)== ord('q'):\n",
    "        break\n",
    "\n",
    "cap.release()\n",
    "cv2.destroyAllWindows()"
   ]
  },
  {
   "cell_type": "code",
   "execution_count": 44,
   "metadata": {},
   "outputs": [],
   "source": [
    "cap=cv2.VideoCapture(0)\n",
    "\n",
    "faceCascade=cv2.CascadeClassifier(\"haarcascade_eye.xml\")\n",
    "faceCascade1=cv2.CascadeClassifier(\"haarcascade_frontalface_default.xml\")\n",
    "\n",
    "while True:\n",
    "    success, frame=cap.read()\n",
    "\n",
    "    imGray=cv2.cvtColor(frame, cv2.COLOR_BGR2GRAY)\n",
    "\n",
    "    eyes=faceCascade.detectMultiScale(imGray,1.1,4)\n",
    "    faces=faceCascade1.detectMultiScale(imGray,1.1,4)\n",
    "\n",
    "    for (x,y,w,h) in faces:\n",
    "        cv2.rectangle(frame, (x,y),(x+w,y+h),(0,0,0),2)\n",
    "\n",
    "    for (x,y,w,h) in eyes:\n",
    "        cv2.rectangle(frame, (x,y),(x+w,y+h),(0,0,0),2)\n",
    "\n",
    "    cv2.imshow(\"Video\",frame)\n",
    "\n",
    "    if cv2.waitKey(1) == ord('q'):\n",
    "        break\n",
    "\n",
    "cap.release()\n",
    "cv2.destroyAllWindows()"
   ]
  }
 ],
 "metadata": {
  "kernelspec": {
   "display_name": "Python 3.9.4 64-bit",
   "language": "python",
   "name": "python3"
  },
  "language_info": {
   "codemirror_mode": {
    "name": "ipython",
    "version": 3
   },
   "file_extension": ".py",
   "mimetype": "text/x-python",
   "name": "python",
   "nbconvert_exporter": "python",
   "pygments_lexer": "ipython3",
   "version": "3.9.4"
  },
  "orig_nbformat": 4,
  "vscode": {
   "interpreter": {
    "hash": "26010795bd605894e6d1c52f707a00e338f0356f4f1eb20f661f111cf3822a0e"
   }
  }
 },
 "nbformat": 4,
 "nbformat_minor": 2
}
